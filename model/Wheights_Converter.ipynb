{
  "nbformat": 4,
  "nbformat_minor": 0,
  "metadata": {
    "colab": {
      "name": "Wheights_Converter.ipynb",
      "provenance": [],
      "collapsed_sections": [],
      "toc_visible": true,
      "authorship_tag": "ABX9TyPefykMX3e83uGvSnFluFCY",
      "include_colab_link": true
    },
    "kernelspec": {
      "name": "python3",
      "display_name": "Python 3"
    }
  },
  "cells": [
    {
      "cell_type": "markdown",
      "metadata": {
        "id": "view-in-github",
        "colab_type": "text"
      },
      "source": [
        "<a href=\"https://colab.research.google.com/github/Gooogr/Doodle-Recognition-Web/blob/keras_model/model/Wheights_Converter.ipynb\" target=\"_parent\"><img src=\"https://colab.research.google.com/assets/colab-badge.svg\" alt=\"Open In Colab\"/></a>"
      ]
    },
    {
      "cell_type": "markdown",
      "metadata": {
        "id": "GsY9f727VikV",
        "colab_type": "text"
      },
      "source": [
        "Convert Keras .h5 weights to TensorFlow.js file<br>\n",
        "[Importing a Keras model into TensorFlow.js](https://www.tensorflow.org/js/tutorials/conversion/import_keras)"
      ]
    },
    {
      "cell_type": "code",
      "metadata": {
        "id": "3lhs3NKIdgrP",
        "colab_type": "code",
        "colab": {
          "base_uri": "https://localhost:8080/",
          "height": 139
        },
        "outputId": "524d1b5e-c349-45d2-b907-ec0758b965e9"
      },
      "source": [
        "! pip install -q tensorflowjs"
      ],
      "execution_count": 1,
      "outputs": [
        {
          "output_type": "stream",
          "text": [
            "\u001b[K     |████████████████████████████████| 61kB 1.9MB/s \n",
            "\u001b[K     |████████████████████████████████| 144.4MB 91kB/s \n",
            "\u001b[K     |████████████████████████████████| 92kB 9.6MB/s \n",
            "\u001b[K     |████████████████████████████████| 256kB 47.2MB/s \n",
            "\u001b[K     |████████████████████████████████| 921kB 44.6MB/s \n",
            "\u001b[?25h  Building wheel for PyInquirer (setup.py) ... \u001b[?25l\u001b[?25hdone\n",
            "\u001b[31mERROR: datascience 0.10.6 has requirement folium==0.2.1, but you'll have folium 0.8.3 which is incompatible.\u001b[0m\n"
          ],
          "name": "stdout"
        }
      ]
    },
    {
      "cell_type": "code",
      "metadata": {
        "id": "UFSWXTKgUS98",
        "colab_type": "code",
        "colab": {}
      },
      "source": [
        "import numpy as np\n",
        "from tensorflow import keras\n",
        "from tensorflow.keras.applications import MobileNet\n",
        "import tensorflowjs as tfjs\n",
        "from IPython.display import display, Javascript"
      ],
      "execution_count": 9,
      "outputs": []
    },
    {
      "cell_type": "markdown",
      "metadata": {
        "id": "3Q7BPPFcWa7z",
        "colab_type": "text"
      },
      "source": [
        "### Fetch .h5 file from URL or google disk"
      ]
    },
    {
      "cell_type": "code",
      "metadata": {
        "id": "YDZbFLKZUaUL",
        "colab_type": "code",
        "colab": {
          "base_uri": "https://localhost:8080/",
          "height": 124
        },
        "outputId": "13514492-f8e1-48a7-ada2-0fb5cc62eebc"
      },
      "source": [
        "# Mount your google disk if you need it\n",
        "from google.colab import drive\n",
        "drive.mount('/content/drive')"
      ],
      "execution_count": null,
      "outputs": [
        {
          "output_type": "stream",
          "text": [
            "Go to this URL in a browser: https://accounts.google.com/o/oauth2/auth?client_id=947318989803-6bn6qk8qdgf4n4g3pfee6491hc0brc4i.apps.googleusercontent.com&redirect_uri=urn%3aietf%3awg%3aoauth%3a2.0%3aoob&response_type=code&scope=email%20https%3a%2f%2fwww.googleapis.com%2fauth%2fdocs.test%20https%3a%2f%2fwww.googleapis.com%2fauth%2fdrive%20https%3a%2f%2fwww.googleapis.com%2fauth%2fdrive.photos.readonly%20https%3a%2f%2fwww.googleapis.com%2fauth%2fpeopleapi.readonly\n",
            "\n",
            "Enter your authorization code:\n",
            "··········\n",
            "Mounted at /content/drive\n"
          ],
          "name": "stdout"
        }
      ]
    },
    {
      "cell_type": "code",
      "metadata": {
        "id": "Pj1JLOBPUxhR",
        "colab_type": "code",
        "colab": {
          "base_uri": "https://localhost:8080/",
          "height": 139
        },
        "outputId": "8771869b-4d78-4664-fa4e-c291bccf5fe2"
      },
      "source": [
        "# Download model and rename it. \n",
        "# Modify the path as you need it.\n",
        "! git clone --single-branch --branch keras_model https://github.com/Gooogr/Doodle-Recognition-Web.git\n",
        "! cp /content/Doodle-Recognition-Web/model/kaggle_model.h5 \\\n",
        "     /content/weights.h5 --force #don't change this part"
      ],
      "execution_count": 3,
      "outputs": [
        {
          "output_type": "stream",
          "text": [
            "Cloning into 'Doodle-Recognition-Web'...\n",
            "remote: Enumerating objects: 114, done.\u001b[K\n",
            "remote: Counting objects:   0% (1/114)\u001b[K\rremote: Counting objects:   1% (2/114)\u001b[K\rremote: Counting objects:   2% (3/114)\u001b[K\rremote: Counting objects:   3% (4/114)\u001b[K\rremote: Counting objects:   4% (5/114)\u001b[K\rremote: Counting objects:   5% (6/114)\u001b[K\rremote: Counting objects:   6% (7/114)\u001b[K\rremote: Counting objects:   7% (8/114)\u001b[K\rremote: Counting objects:   8% (10/114)\u001b[K\rremote: Counting objects:   9% (11/114)\u001b[K\rremote: Counting objects:  10% (12/114)\u001b[K\rremote: Counting objects:  11% (13/114)\u001b[K\rremote: Counting objects:  12% (14/114)\u001b[K\rremote: Counting objects:  13% (15/114)\u001b[K\rremote: Counting objects:  14% (16/114)\u001b[K\rremote: Counting objects:  15% (18/114)\u001b[K\rremote: Counting objects:  16% (19/114)\u001b[K\rremote: Counting objects:  17% (20/114)\u001b[K\rremote: Counting objects:  18% (21/114)\u001b[K\rremote: Counting objects:  19% (22/114)\u001b[K\rremote: Counting objects:  20% (23/114)\u001b[K\rremote: Counting objects:  21% (24/114)\u001b[K\rremote: Counting objects:  22% (26/114)\u001b[K\rremote: Counting objects:  23% (27/114)\u001b[K\rremote: Counting objects:  24% (28/114)\u001b[K\rremote: Counting objects:  25% (29/114)\u001b[K\rremote: Counting objects:  26% (30/114)\u001b[K\rremote: Counting objects:  27% (31/114)\u001b[K\rremote: Counting objects:  28% (32/114)\u001b[K\rremote: Counting objects:  29% (34/114)\u001b[K\rremote: Counting objects:  30% (35/114)\u001b[K\rremote: Counting objects:  31% (36/114)\u001b[K\rremote: Counting objects:  32% (37/114)\u001b[K\rremote: Counting objects:  33% (38/114)\u001b[K\rremote: Counting objects:  34% (39/114)\u001b[K\rremote: Counting objects:  35% (40/114)\u001b[K\rremote: Counting objects:  36% (42/114)\u001b[K\rremote: Counting objects:  37% (43/114)\u001b[K\rremote: Counting objects:  38% (44/114)\u001b[K\rremote: Counting objects:  39% (45/114)\u001b[K\rremote: Counting objects:  40% (46/114)\u001b[K\rremote: Counting objects:  41% (47/114)\u001b[K\rremote: Counting objects:  42% (48/114)\u001b[K\rremote: Counting objects:  43% (50/114)\u001b[K\rremote: Counting objects:  44% (51/114)\u001b[K\rremote: Counting objects:  45% (52/114)\u001b[K\rremote: Counting objects:  46% (53/114)\u001b[K\rremote: Counting objects:  47% (54/114)\u001b[K\rremote: Counting objects:  48% (55/114)\u001b[K\rremote: Counting objects:  49% (56/114)\u001b[K\rremote: Counting objects:  50% (57/114)\u001b[K\rremote: Counting objects:  51% (59/114)\u001b[K\rremote: Counting objects:  52% (60/114)\u001b[K\rremote: Counting objects:  53% (61/114)\u001b[K\rremote: Counting objects:  54% (62/114)\u001b[K\rremote: Counting objects:  55% (63/114)\u001b[K\rremote: Counting objects:  56% (64/114)\u001b[K\rremote: Counting objects:  57% (65/114)\u001b[K\rremote: Counting objects:  58% (67/114)\u001b[K\rremote: Counting objects:  59% (68/114)\u001b[K\rremote: Counting objects:  60% (69/114)\u001b[K\rremote: Counting objects:  61% (70/114)\u001b[K\rremote: Counting objects:  62% (71/114)\u001b[K\rremote: Counting objects:  63% (72/114)\u001b[K\rremote: Counting objects:  64% (73/114)\u001b[K\rremote: Counting objects:  65% (75/114)\u001b[K\rremote: Counting objects:  66% (76/114)\u001b[K\rremote: Counting objects:  67% (77/114)\u001b[K\rremote: Counting objects:  68% (78/114)\u001b[K\rremote: Counting objects:  69% (79/114)\u001b[K\rremote: Counting objects:  70% (80/114)\u001b[K\rremote: Counting objects:  71% (81/114)\u001b[K\rremote: Counting objects:  72% (83/114)\u001b[K\rremote: Counting objects:  73% (84/114)\u001b[K\rremote: Counting objects:  74% (85/114)\u001b[K\rremote: Counting objects:  75% (86/114)\u001b[K\rremote: Counting objects:  76% (87/114)\u001b[K\rremote: Counting objects:  77% (88/114)\u001b[K\rremote: Counting objects:  78% (89/114)\u001b[K\rremote: Counting objects:  79% (91/114)\u001b[K\rremote: Counting objects:  80% (92/114)\u001b[K\rremote: Counting objects:  81% (93/114)\u001b[K\rremote: Counting objects:  82% (94/114)\u001b[K\rremote: Counting objects:  83% (95/114)\u001b[K\rremote: Counting objects:  84% (96/114)\u001b[K\rremote: Counting objects:  85% (97/114)\u001b[K\rremote: Counting objects:  86% (99/114)\u001b[K\rremote: Counting objects:  87% (100/114)\u001b[K\rremote: Counting objects:  88% (101/114)\u001b[K\rremote: Counting objects:  89% (102/114)\u001b[K\rremote: Counting objects:  90% (103/114)\u001b[K\rremote: Counting objects:  91% (104/114)\u001b[K\rremote: Counting objects:  92% (105/114)\u001b[K\rremote: Counting objects:  93% (107/114)\u001b[K\rremote: Counting objects:  94% (108/114)\u001b[K\rremote: Counting objects:  95% (109/114)\u001b[K\rremote: Counting objects:  96% (110/114)\u001b[K\rremote: Counting objects:  97% (111/114)\u001b[K\rremote: Counting objects:  98% (112/114)\u001b[K\rremote: Counting objects:  99% (113/114)\u001b[K\rremote: Counting objects: 100% (114/114)\u001b[K\rremote: Counting objects: 100% (114/114), done.\u001b[K\n",
            "remote: Compressing objects:   1% (1/62)\u001b[K\rremote: Compressing objects:   3% (2/62)\u001b[K\rremote: Compressing objects:   4% (3/62)\u001b[K\rremote: Compressing objects:   6% (4/62)\u001b[K\rremote: Compressing objects:   8% (5/62)\u001b[K\rremote: Compressing objects:   9% (6/62)\u001b[K\rremote: Compressing objects:  11% (7/62)\u001b[K\rremote: Compressing objects:  12% (8/62)\u001b[K\rremote: Compressing objects:  14% (9/62)\u001b[K\rremote: Compressing objects:  16% (10/62)\u001b[K\rremote: Compressing objects:  17% (11/62)\u001b[K\rremote: Compressing objects:  19% (12/62)\u001b[K\rremote: Compressing objects:  20% (13/62)\u001b[K\rremote: Compressing objects:  22% (14/62)\u001b[K\rremote: Compressing objects:  24% (15/62)\u001b[K\rremote: Compressing objects:  25% (16/62)\u001b[K\rremote: Compressing objects:  27% (17/62)\u001b[K\rremote: Compressing objects:  29% (18/62)\u001b[K\rremote: Compressing objects:  30% (19/62)\u001b[K\rremote: Compressing objects:  32% (20/62)\u001b[K\rremote: Compressing objects:  33% (21/62)\u001b[K\rremote: Compressing objects:  35% (22/62)\u001b[K\rremote: Compressing objects:  37% (23/62)\u001b[K\rremote: Compressing objects:  38% (24/62)\u001b[K\rremote: Compressing objects:  40% (25/62)\u001b[K\rremote: Compressing objects:  41% (26/62)\u001b[K\rremote: Compressing objects:  43% (27/62)\u001b[K\rremote: Compressing objects:  45% (28/62)\u001b[K\rremote: Compressing objects:  46% (29/62)\u001b[K\rremote: Compressing objects:  48% (30/62)\u001b[K\rremote: Compressing objects:  50% (31/62)\u001b[K\rremote: Compressing objects:  51% (32/62)\u001b[K\rremote: Compressing objects:  53% (33/62)\u001b[K\rremote: Compressing objects:  54% (34/62)\u001b[K\rremote: Compressing objects:  56% (35/62)\u001b[K\rremote: Compressing objects:  58% (36/62)\u001b[K\rremote: Compressing objects:  59% (37/62)\u001b[K\rremote: Compressing objects:  61% (38/62)\u001b[K\rremote: Compressing objects:  62% (39/62)\u001b[K\rremote: Compressing objects:  64% (40/62)\u001b[K\rremote: Compressing objects:  66% (41/62)\u001b[K\rremote: Compressing objects:  67% (42/62)\u001b[K\rremote: Compressing objects:  69% (43/62)\u001b[K\rremote: Compressing objects:  70% (44/62)\u001b[K\rremote: Compressing objects:  72% (45/62)\u001b[K\rremote: Compressing objects:  74% (46/62)\u001b[K\rremote: Compressing objects:  75% (47/62)\u001b[K\rremote: Compressing objects:  77% (48/62)\u001b[K\rremote: Compressing objects:  79% (49/62)\u001b[K\rremote: Compressing objects:  80% (50/62)\u001b[K\rremote: Compressing objects:  82% (51/62)\u001b[K\rremote: Compressing objects:  83% (52/62)\u001b[K\rremote: Compressing objects:  85% (53/62)\u001b[K\rremote: Compressing objects:  87% (54/62)\u001b[K\rremote: Compressing objects:  88% (55/62)\u001b[K\rremote: Compressing objects:  90% (56/62)\u001b[K\rremote: Compressing objects:  91% (57/62)\u001b[K\rremote: Compressing objects:  93% (58/62)\u001b[K\rremote: Compressing objects:  95% (59/62)\u001b[K\rremote: Compressing objects:  96% (60/62)\u001b[K\rremote: Compressing objects:  98% (61/62)\u001b[K\rremote: Compressing objects: 100% (62/62)\u001b[K\rremote: Compressing objects: 100% (62/62), done.\u001b[K\n",
            "Receiving objects:   0% (1/114)   \rReceiving objects:   1% (2/114)   \rReceiving objects:   2% (3/114)   \rReceiving objects:   3% (4/114)   \rReceiving objects:   4% (5/114)   \rReceiving objects:   5% (6/114)   \rReceiving objects:   6% (7/114)   \rReceiving objects:   7% (8/114)   \rReceiving objects:   8% (10/114)   \rReceiving objects:   9% (11/114)   \rReceiving objects:  10% (12/114)   \rReceiving objects:  11% (13/114)   \rReceiving objects:  12% (14/114)   \rReceiving objects:  13% (15/114)   \rReceiving objects:  14% (16/114)   \rReceiving objects:  15% (18/114)   \rReceiving objects:  16% (19/114)   \rReceiving objects:  17% (20/114)   \rReceiving objects:  18% (21/114)   \rReceiving objects:  19% (22/114)   \rReceiving objects:  20% (23/114)   \rReceiving objects:  21% (24/114)   \rReceiving objects:  22% (26/114)   \rReceiving objects:  23% (27/114)   \rReceiving objects:  24% (28/114)   \rReceiving objects:  25% (29/114)   \rReceiving objects:  26% (30/114)   \rReceiving objects:  27% (31/114)   \rReceiving objects:  28% (32/114)   \rReceiving objects:  29% (34/114)   \rReceiving objects:  30% (35/114)   \rReceiving objects:  31% (36/114)   \rReceiving objects:  32% (37/114)   \rReceiving objects:  33% (38/114)   \rReceiving objects:  34% (39/114)   \rReceiving objects:  35% (40/114)   \rReceiving objects:  36% (42/114)   \rReceiving objects:  37% (43/114)   \rReceiving objects:  38% (44/114)   \rReceiving objects:  39% (45/114)   \rReceiving objects:  40% (46/114)   \rReceiving objects:  41% (47/114)   \rReceiving objects:  42% (48/114)   \rReceiving objects:  43% (50/114)   \rReceiving objects:  44% (51/114)   \rReceiving objects:  45% (52/114)   \rReceiving objects:  46% (53/114)   \rReceiving objects:  47% (54/114)   \rReceiving objects:  48% (55/114)   \rReceiving objects:  49% (56/114)   \rReceiving objects:  50% (57/114)   \rReceiving objects:  51% (59/114)   \rReceiving objects:  52% (60/114)   \rReceiving objects:  53% (61/114)   \rReceiving objects:  54% (62/114)   \rReceiving objects:  55% (63/114)   \rReceiving objects:  56% (64/114)   \rReceiving objects:  57% (65/114)   \rReceiving objects:  58% (67/114)   \rReceiving objects:  59% (68/114)   \rReceiving objects:  60% (69/114)   \rReceiving objects:  61% (70/114)   \rReceiving objects:  62% (71/114)   \rReceiving objects:  63% (72/114)   \rReceiving objects:  64% (73/114)   \rReceiving objects:  65% (75/114)   \rReceiving objects:  66% (76/114)   \rReceiving objects:  67% (77/114)   \rReceiving objects:  68% (78/114)   \rReceiving objects:  69% (79/114)   \rReceiving objects:  70% (80/114)   \rReceiving objects:  71% (81/114)   \rReceiving objects:  72% (83/114)   \rReceiving objects:  73% (84/114)   \rReceiving objects:  74% (85/114)   \rReceiving objects:  75% (86/114)   \rReceiving objects:  76% (87/114)   \rReceiving objects:  77% (88/114)   \rReceiving objects:  78% (89/114)   \rReceiving objects:  79% (91/114)   \rremote: Total 114 (delta 36), reused 100 (delta 27), pack-reused 0\u001b[K\n",
            "Receiving objects:  80% (92/114)   \rReceiving objects:  81% (93/114)   \rReceiving objects:  82% (94/114)   \rReceiving objects:  83% (95/114)   \rReceiving objects:  84% (96/114)   \rReceiving objects:  85% (97/114)   \rReceiving objects:  86% (99/114)   \rReceiving objects:  87% (100/114)   \rReceiving objects:  88% (101/114)   \rReceiving objects:  89% (102/114)   \rReceiving objects:  90% (103/114)   \rReceiving objects:  91% (104/114)   \rReceiving objects:  92% (105/114)   \rReceiving objects:  93% (107/114)   \rReceiving objects:  94% (108/114)   \rReceiving objects:  95% (109/114)   \rReceiving objects:  96% (110/114)   \rReceiving objects:  97% (111/114)   \rReceiving objects:  98% (112/114)   \rReceiving objects:  99% (113/114)   \rReceiving objects: 100% (114/114)   \rReceiving objects: 100% (114/114), 12.80 MiB | 32.28 MiB/s, done.\n",
            "Resolving deltas:   0% (0/36)   \rResolving deltas:   8% (3/36)   \rResolving deltas:  13% (5/36)   \rResolving deltas:  16% (6/36)   \rResolving deltas:  36% (13/36)   \rResolving deltas:  52% (19/36)   \rResolving deltas:  66% (24/36)   \rResolving deltas:  72% (26/36)   \rResolving deltas:  75% (27/36)   \rResolving deltas:  83% (30/36)   \rResolving deltas:  88% (32/36)   \rResolving deltas:  91% (33/36)   \rResolving deltas:  94% (34/36)   \rResolving deltas:  97% (35/36)   \rResolving deltas: 100% (36/36)   \rResolving deltas: 100% (36/36), done.\n"
          ],
          "name": "stdout"
        }
      ]
    },
    {
      "cell_type": "markdown",
      "metadata": {
        "id": "frfdV7RzZHlv",
        "colab_type": "text"
      },
      "source": [
        "### Create model and load weights"
      ]
    },
    {
      "cell_type": "code",
      "metadata": {
        "id": "hValKZQyZ7wV",
        "colab_type": "code",
        "colab": {}
      },
      "source": [
        "SIZE = 64\n",
        "NCATS = 340 #Hardcoded parameter from dataset"
      ],
      "execution_count": 4,
      "outputs": []
    },
    {
      "cell_type": "code",
      "metadata": {
        "id": "X9PJmz1PZlw9",
        "colab_type": "code",
        "colab": {
          "base_uri": "https://localhost:8080/",
          "height": 1000
        },
        "outputId": "bb40d7f3-2d80-4531-a32a-e24ecb4390c7"
      },
      "source": [
        "model = MobileNet(input_shape=(SIZE, SIZE, 1), alpha=1., weights='/content/weights.h5', classes=NCATS)\n",
        "model.summary()"
      ],
      "execution_count": 5,
      "outputs": [
        {
          "output_type": "stream",
          "text": [
            "Model: \"mobilenet_1.00_64\"\n",
            "_________________________________________________________________\n",
            "Layer (type)                 Output Shape              Param #   \n",
            "=================================================================\n",
            "input_1 (InputLayer)         [(None, 64, 64, 1)]       0         \n",
            "_________________________________________________________________\n",
            "conv1_pad (ZeroPadding2D)    (None, 65, 65, 1)         0         \n",
            "_________________________________________________________________\n",
            "conv1 (Conv2D)               (None, 32, 32, 32)        288       \n",
            "_________________________________________________________________\n",
            "conv1_bn (BatchNormalization (None, 32, 32, 32)        128       \n",
            "_________________________________________________________________\n",
            "conv1_relu (ReLU)            (None, 32, 32, 32)        0         \n",
            "_________________________________________________________________\n",
            "conv_dw_1 (DepthwiseConv2D)  (None, 32, 32, 32)        288       \n",
            "_________________________________________________________________\n",
            "conv_dw_1_bn (BatchNormaliza (None, 32, 32, 32)        128       \n",
            "_________________________________________________________________\n",
            "conv_dw_1_relu (ReLU)        (None, 32, 32, 32)        0         \n",
            "_________________________________________________________________\n",
            "conv_pw_1 (Conv2D)           (None, 32, 32, 64)        2048      \n",
            "_________________________________________________________________\n",
            "conv_pw_1_bn (BatchNormaliza (None, 32, 32, 64)        256       \n",
            "_________________________________________________________________\n",
            "conv_pw_1_relu (ReLU)        (None, 32, 32, 64)        0         \n",
            "_________________________________________________________________\n",
            "conv_pad_2 (ZeroPadding2D)   (None, 33, 33, 64)        0         \n",
            "_________________________________________________________________\n",
            "conv_dw_2 (DepthwiseConv2D)  (None, 16, 16, 64)        576       \n",
            "_________________________________________________________________\n",
            "conv_dw_2_bn (BatchNormaliza (None, 16, 16, 64)        256       \n",
            "_________________________________________________________________\n",
            "conv_dw_2_relu (ReLU)        (None, 16, 16, 64)        0         \n",
            "_________________________________________________________________\n",
            "conv_pw_2 (Conv2D)           (None, 16, 16, 128)       8192      \n",
            "_________________________________________________________________\n",
            "conv_pw_2_bn (BatchNormaliza (None, 16, 16, 128)       512       \n",
            "_________________________________________________________________\n",
            "conv_pw_2_relu (ReLU)        (None, 16, 16, 128)       0         \n",
            "_________________________________________________________________\n",
            "conv_dw_3 (DepthwiseConv2D)  (None, 16, 16, 128)       1152      \n",
            "_________________________________________________________________\n",
            "conv_dw_3_bn (BatchNormaliza (None, 16, 16, 128)       512       \n",
            "_________________________________________________________________\n",
            "conv_dw_3_relu (ReLU)        (None, 16, 16, 128)       0         \n",
            "_________________________________________________________________\n",
            "conv_pw_3 (Conv2D)           (None, 16, 16, 128)       16384     \n",
            "_________________________________________________________________\n",
            "conv_pw_3_bn (BatchNormaliza (None, 16, 16, 128)       512       \n",
            "_________________________________________________________________\n",
            "conv_pw_3_relu (ReLU)        (None, 16, 16, 128)       0         \n",
            "_________________________________________________________________\n",
            "conv_pad_4 (ZeroPadding2D)   (None, 17, 17, 128)       0         \n",
            "_________________________________________________________________\n",
            "conv_dw_4 (DepthwiseConv2D)  (None, 8, 8, 128)         1152      \n",
            "_________________________________________________________________\n",
            "conv_dw_4_bn (BatchNormaliza (None, 8, 8, 128)         512       \n",
            "_________________________________________________________________\n",
            "conv_dw_4_relu (ReLU)        (None, 8, 8, 128)         0         \n",
            "_________________________________________________________________\n",
            "conv_pw_4 (Conv2D)           (None, 8, 8, 256)         32768     \n",
            "_________________________________________________________________\n",
            "conv_pw_4_bn (BatchNormaliza (None, 8, 8, 256)         1024      \n",
            "_________________________________________________________________\n",
            "conv_pw_4_relu (ReLU)        (None, 8, 8, 256)         0         \n",
            "_________________________________________________________________\n",
            "conv_dw_5 (DepthwiseConv2D)  (None, 8, 8, 256)         2304      \n",
            "_________________________________________________________________\n",
            "conv_dw_5_bn (BatchNormaliza (None, 8, 8, 256)         1024      \n",
            "_________________________________________________________________\n",
            "conv_dw_5_relu (ReLU)        (None, 8, 8, 256)         0         \n",
            "_________________________________________________________________\n",
            "conv_pw_5 (Conv2D)           (None, 8, 8, 256)         65536     \n",
            "_________________________________________________________________\n",
            "conv_pw_5_bn (BatchNormaliza (None, 8, 8, 256)         1024      \n",
            "_________________________________________________________________\n",
            "conv_pw_5_relu (ReLU)        (None, 8, 8, 256)         0         \n",
            "_________________________________________________________________\n",
            "conv_pad_6 (ZeroPadding2D)   (None, 9, 9, 256)         0         \n",
            "_________________________________________________________________\n",
            "conv_dw_6 (DepthwiseConv2D)  (None, 4, 4, 256)         2304      \n",
            "_________________________________________________________________\n",
            "conv_dw_6_bn (BatchNormaliza (None, 4, 4, 256)         1024      \n",
            "_________________________________________________________________\n",
            "conv_dw_6_relu (ReLU)        (None, 4, 4, 256)         0         \n",
            "_________________________________________________________________\n",
            "conv_pw_6 (Conv2D)           (None, 4, 4, 512)         131072    \n",
            "_________________________________________________________________\n",
            "conv_pw_6_bn (BatchNormaliza (None, 4, 4, 512)         2048      \n",
            "_________________________________________________________________\n",
            "conv_pw_6_relu (ReLU)        (None, 4, 4, 512)         0         \n",
            "_________________________________________________________________\n",
            "conv_dw_7 (DepthwiseConv2D)  (None, 4, 4, 512)         4608      \n",
            "_________________________________________________________________\n",
            "conv_dw_7_bn (BatchNormaliza (None, 4, 4, 512)         2048      \n",
            "_________________________________________________________________\n",
            "conv_dw_7_relu (ReLU)        (None, 4, 4, 512)         0         \n",
            "_________________________________________________________________\n",
            "conv_pw_7 (Conv2D)           (None, 4, 4, 512)         262144    \n",
            "_________________________________________________________________\n",
            "conv_pw_7_bn (BatchNormaliza (None, 4, 4, 512)         2048      \n",
            "_________________________________________________________________\n",
            "conv_pw_7_relu (ReLU)        (None, 4, 4, 512)         0         \n",
            "_________________________________________________________________\n",
            "conv_dw_8 (DepthwiseConv2D)  (None, 4, 4, 512)         4608      \n",
            "_________________________________________________________________\n",
            "conv_dw_8_bn (BatchNormaliza (None, 4, 4, 512)         2048      \n",
            "_________________________________________________________________\n",
            "conv_dw_8_relu (ReLU)        (None, 4, 4, 512)         0         \n",
            "_________________________________________________________________\n",
            "conv_pw_8 (Conv2D)           (None, 4, 4, 512)         262144    \n",
            "_________________________________________________________________\n",
            "conv_pw_8_bn (BatchNormaliza (None, 4, 4, 512)         2048      \n",
            "_________________________________________________________________\n",
            "conv_pw_8_relu (ReLU)        (None, 4, 4, 512)         0         \n",
            "_________________________________________________________________\n",
            "conv_dw_9 (DepthwiseConv2D)  (None, 4, 4, 512)         4608      \n",
            "_________________________________________________________________\n",
            "conv_dw_9_bn (BatchNormaliza (None, 4, 4, 512)         2048      \n",
            "_________________________________________________________________\n",
            "conv_dw_9_relu (ReLU)        (None, 4, 4, 512)         0         \n",
            "_________________________________________________________________\n",
            "conv_pw_9 (Conv2D)           (None, 4, 4, 512)         262144    \n",
            "_________________________________________________________________\n",
            "conv_pw_9_bn (BatchNormaliza (None, 4, 4, 512)         2048      \n",
            "_________________________________________________________________\n",
            "conv_pw_9_relu (ReLU)        (None, 4, 4, 512)         0         \n",
            "_________________________________________________________________\n",
            "conv_dw_10 (DepthwiseConv2D) (None, 4, 4, 512)         4608      \n",
            "_________________________________________________________________\n",
            "conv_dw_10_bn (BatchNormaliz (None, 4, 4, 512)         2048      \n",
            "_________________________________________________________________\n",
            "conv_dw_10_relu (ReLU)       (None, 4, 4, 512)         0         \n",
            "_________________________________________________________________\n",
            "conv_pw_10 (Conv2D)          (None, 4, 4, 512)         262144    \n",
            "_________________________________________________________________\n",
            "conv_pw_10_bn (BatchNormaliz (None, 4, 4, 512)         2048      \n",
            "_________________________________________________________________\n",
            "conv_pw_10_relu (ReLU)       (None, 4, 4, 512)         0         \n",
            "_________________________________________________________________\n",
            "conv_dw_11 (DepthwiseConv2D) (None, 4, 4, 512)         4608      \n",
            "_________________________________________________________________\n",
            "conv_dw_11_bn (BatchNormaliz (None, 4, 4, 512)         2048      \n",
            "_________________________________________________________________\n",
            "conv_dw_11_relu (ReLU)       (None, 4, 4, 512)         0         \n",
            "_________________________________________________________________\n",
            "conv_pw_11 (Conv2D)          (None, 4, 4, 512)         262144    \n",
            "_________________________________________________________________\n",
            "conv_pw_11_bn (BatchNormaliz (None, 4, 4, 512)         2048      \n",
            "_________________________________________________________________\n",
            "conv_pw_11_relu (ReLU)       (None, 4, 4, 512)         0         \n",
            "_________________________________________________________________\n",
            "conv_pad_12 (ZeroPadding2D)  (None, 5, 5, 512)         0         \n",
            "_________________________________________________________________\n",
            "conv_dw_12 (DepthwiseConv2D) (None, 2, 2, 512)         4608      \n",
            "_________________________________________________________________\n",
            "conv_dw_12_bn (BatchNormaliz (None, 2, 2, 512)         2048      \n",
            "_________________________________________________________________\n",
            "conv_dw_12_relu (ReLU)       (None, 2, 2, 512)         0         \n",
            "_________________________________________________________________\n",
            "conv_pw_12 (Conv2D)          (None, 2, 2, 1024)        524288    \n",
            "_________________________________________________________________\n",
            "conv_pw_12_bn (BatchNormaliz (None, 2, 2, 1024)        4096      \n",
            "_________________________________________________________________\n",
            "conv_pw_12_relu (ReLU)       (None, 2, 2, 1024)        0         \n",
            "_________________________________________________________________\n",
            "conv_dw_13 (DepthwiseConv2D) (None, 2, 2, 1024)        9216      \n",
            "_________________________________________________________________\n",
            "conv_dw_13_bn (BatchNormaliz (None, 2, 2, 1024)        4096      \n",
            "_________________________________________________________________\n",
            "conv_dw_13_relu (ReLU)       (None, 2, 2, 1024)        0         \n",
            "_________________________________________________________________\n",
            "conv_pw_13 (Conv2D)          (None, 2, 2, 1024)        1048576   \n",
            "_________________________________________________________________\n",
            "conv_pw_13_bn (BatchNormaliz (None, 2, 2, 1024)        4096      \n",
            "_________________________________________________________________\n",
            "conv_pw_13_relu (ReLU)       (None, 2, 2, 1024)        0         \n",
            "_________________________________________________________________\n",
            "global_average_pooling2d (Gl (None, 1024)              0         \n",
            "_________________________________________________________________\n",
            "reshape_1 (Reshape)          (None, 1, 1, 1024)        0         \n",
            "_________________________________________________________________\n",
            "dropout (Dropout)            (None, 1, 1, 1024)        0         \n",
            "_________________________________________________________________\n",
            "conv_preds (Conv2D)          (None, 1, 1, 340)         348500    \n",
            "_________________________________________________________________\n",
            "reshape_2 (Reshape)          (None, 340)               0         \n",
            "_________________________________________________________________\n",
            "predictions (Activation)     (None, 340)               0         \n",
            "=================================================================\n",
            "Total params: 3,576,788\n",
            "Trainable params: 3,554,900\n",
            "Non-trainable params: 21,888\n",
            "_________________________________________________________________\n"
          ],
          "name": "stdout"
        }
      ]
    },
    {
      "cell_type": "code",
      "metadata": {
        "id": "XTi7AmKmc8kv",
        "colab_type": "code",
        "colab": {
          "base_uri": "https://localhost:8080/",
          "height": 34
        },
        "outputId": "61716ac9-1a84-47d8-cf29-4590dd109e32"
      },
      "source": [
        "# Sanity check\n",
        "noise = np.random.randn(1, SIZE, SIZE, 1)\n",
        "preds = model.predict(noise)\n",
        "assert preds.shape != [1, 340]\n",
        "print('Sanity check passed!')"
      ],
      "execution_count": 6,
      "outputs": [
        {
          "output_type": "stream",
          "text": [
            "Sanity check passed!\n"
          ],
          "name": "stdout"
        }
      ]
    },
    {
      "cell_type": "markdown",
      "metadata": {
        "id": "TcZQlKO5fIRM",
        "colab_type": "text"
      },
      "source": [
        "### Convert model to TensorFlow.js"
      ]
    },
    {
      "cell_type": "code",
      "metadata": {
        "id": "S-dO3Ch1eDBQ",
        "colab_type": "code",
        "colab": {
          "base_uri": "https://localhost:8080/",
          "height": 106
        },
        "outputId": "a23a33be-8375-42be-ec5d-4e8f4c19acb5"
      },
      "source": [
        "# convert and zip files\n",
        "! mkdir /content/weights_js\n",
        "tfjs.converters.save_keras_model(model, '/content/weights_js')\n",
        "! zip -r converted_weights.zip /content/weights_js"
      ],
      "execution_count": 7,
      "outputs": [
        {
          "output_type": "stream",
          "text": [
            "/usr/local/lib/python3.6/dist-packages/tensorflowjs/converters/keras_h5_conversion.py:122: H5pyDeprecationWarning: The default file mode will change to 'r' (read-only) in h5py 3.0. To suppress this warning, pass the mode you need to h5py.File(), or set the global default h5.get_config().default_file_mode, or set the environment variable H5PY_DEFAULT_READONLY=1. Available modes are: 'r', 'r+', 'w', 'w-'/'x', 'a'. See the docs for details.\n",
            "  return h5py.File(h5file)\n"
          ],
          "name": "stderr"
        },
        {
          "output_type": "stream",
          "text": [
            "group1-shard1of4.bin  group1-shard3of4.bin  model.json\n",
            "group1-shard2of4.bin  group1-shard4of4.bin\n"
          ],
          "name": "stdout"
        }
      ]
    },
    {
      "cell_type": "code",
      "metadata": {
        "id": "2Gi_X8Sbd8Xd",
        "colab_type": "code",
        "colab": {}
      },
      "source": [
        ""
      ],
      "execution_count": null,
      "outputs": []
    }
  ]
}